{
 "cells": [
  {
   "cell_type": "markdown",
   "metadata": {},
   "source": [
    "<div class=\"alert alert-block alert-info\"><h1>Bài tập mở rộng</h1></div>"
   ]
  },
  {
   "cell_type": "markdown",
   "metadata": {},
   "source": [
    "> Câu 01: Liệt kê tất cả các hoán vị của danh sách [1, 2, 3]"
   ]
  },
  {
   "cell_type": "code",
   "execution_count": 1,
   "metadata": {},
   "outputs": [
    {
     "name": "stdout",
     "output_type": "stream",
     "text": [
      "Các hoán vị của [1, 2, 3] là:\n",
      "(1, 2, 3)\n",
      "(1, 3, 2)\n",
      "(2, 1, 3)\n",
      "(2, 3, 1)\n",
      "(3, 1, 2)\n",
      "(3, 2, 1)\n"
     ]
    }
   ],
   "source": [
    "import itertools\n",
    "\n",
    "# Danh sách đầu vào\n",
    "my_list = [1, 2, 3]\n",
    "\n",
    "# Lấy tất cả các hoán vị của danh sách\n",
    "permutations = list(itertools.permutations(my_list))\n",
    "\n",
    "# In kết quả\n",
    "print(f\"Các hoán vị của {my_list} là:\")\n",
    "for p in permutations:\n",
    "    print(p)\n",
    "\n",
    "# Hoặc in dưới dạng một list duy nhất\n",
    "# print(permutations)"
   ]
  },
  {
   "cell_type": "markdown",
   "metadata": {},
   "source": [
    "> Câu 02: Tính tổng các số nguyên dương và âm trong một chuỗi"
   ]
  },
  {
   "cell_type": "code",
   "execution_count": 2,
   "metadata": {},
   "outputs": [
    {
     "name": "stdout",
     "output_type": "stream",
     "text": [
      "Chuỗi ban đầu là: \"-100#^sdfkj8902w3ir021@swf-20\"\n",
      "Giá trị dương: 8926\n",
      "Giá trị âm: -120\n"
     ]
    }
   ],
   "source": [
    "import re\n",
    "\n",
    "# Chuỗi đầu vào\n",
    "input_string = \"-100#^sdfkj8902w3ir021@swf-20\"\n",
    "\n",
    "# Tìm tất cả các số nguyên (bao gồm cả số âm) trong chuỗi\n",
    "# r'-?\\d+' tìm một dấu '-' tùy chọn theo sau là một hoặc nhiều chữ số\n",
    "numbers_str = re.findall(r'-?\\d+', input_string)\n",
    "\n",
    "positive_sum = 0\n",
    "negative_sum = 0\n",
    "\n",
    "# Chuyển đổi các chuỗi số thành số nguyên và tính tổng\n",
    "for num_str in numbers_str:\n",
    "    num = int(num_str) # Chuyển chuỗi thành số nguyên\n",
    "    if num >= 0: # Bao gồm 0 vào tổng dương theo ví dụ\n",
    "        positive_sum += num\n",
    "    else:\n",
    "        negative_sum += num\n",
    "\n",
    "# In kết quả\n",
    "print(f\"Chuỗi ban đầu là: \\\"{input_string}\\\"\")\n",
    "print(f\"Giá trị dương: {positive_sum}\")\n",
    "print(f\"Giá trị âm: {negative_sum}\")"
   ]
  }
 ],
 "metadata": {
  "kernelspec": {
   "display_name": "Python 3",
   "language": "python",
   "name": "python3"
  },
  "language_info": {
   "codemirror_mode": {
    "name": "ipython",
    "version": 3
   },
   "file_extension": ".py",
   "mimetype": "text/x-python",
   "name": "python",
   "nbconvert_exporter": "python",
   "pygments_lexer": "ipython3",
   "version": "3.13.3"
  }
 },
 "nbformat": 4,
 "nbformat_minor": 2
}
