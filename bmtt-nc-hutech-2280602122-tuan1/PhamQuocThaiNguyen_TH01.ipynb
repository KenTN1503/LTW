{
 "cells": [
  {
   "cell_type": "markdown",
   "metadata": {},
   "source": [
    "<div class=\"alert alert-block alert-info\"><h1>1.2.1 Biến và từ khóa</h1></div>"
   ]
  },
  {
   "cell_type": "code",
   "execution_count": 71,
   "metadata": {},
   "outputs": [],
   "source": [
    "x = 10.2 #Biến x lưu trữ giá trị float\n",
    "y = 10 # Bién y lưu trữ giá trị số nguyên\n",
    "name = \"Hoang Anh\" #Biến name lưu trữ chuỗi \"Hoang AnhAnh\"\n",
    "is_valid = True #Biến is_valid luu trữ giá trị boolean TrueTrue"
   ]
  },
  {
   "cell_type": "code",
   "execution_count": 72,
   "metadata": {},
   "outputs": [
    {
     "name": "stdout",
     "output_type": "stream",
     "text": [
      "Biến x:  10.2\n",
      "Biến y:  10\n",
      "Biến name:  Hoang Anh\n",
      "Biến is_valid True\n"
     ]
    }
   ],
   "source": [
    "print(\"Biến x: \", x)\n",
    "print(\"Biến y: \", y)\n",
    "print(\"Biến name: \", name)\n",
    "print(\"Biến is_valid\", is_valid)"
   ]
  },
  {
   "cell_type": "code",
   "execution_count": 2,
   "metadata": {},
   "outputs": [
    {
     "ename": "SyntaxError",
     "evalue": "invalid syntax (722597268.py, line 1)",
     "output_type": "error",
     "traceback": [
      "  \u001b[36mCell\u001b[39m\u001b[36m \u001b[39m\u001b[32mIn[2]\u001b[39m\u001b[32m, line 1\u001b[39m\n\u001b[31m    \u001b[39m\u001b[31mif = 5 # Lỗi \"if\" là từ khóa không thể sử dụng làm biến\u001b[39m\n       ^\n\u001b[31mSyntaxError\u001b[39m\u001b[31m:\u001b[39m invalid syntax\n"
     ]
    }
   ],
   "source": [
    "if = 5 # Lỗi \"if\" là từ khóa không thể sử dụng làm biến"
   ]
  },
  {
   "cell_type": "markdown",
   "metadata": {},
   "source": [
    "<div class=\"alert alert-block alert-info\"><h1>1.2.3 Các toán tử số học</h1></div>"
   ]
  },
  {
   "cell_type": "markdown",
   "metadata": {},
   "source": [
    "### -- Cộng (+)"
   ]
  },
  {
   "cell_type": "code",
   "execution_count": 73,
   "metadata": {},
   "outputs": [],
   "source": [
    "a = 5\n",
    "b = 3\n",
    "result = a + b ##Kết quả: 8"
   ]
  },
  {
   "cell_type": "code",
   "execution_count": 74,
   "metadata": {},
   "outputs": [
    {
     "name": "stdout",
     "output_type": "stream",
     "text": [
      "Kết quả phép cộng (a + b):  8\n"
     ]
    }
   ],
   "source": [
    "print(\"Kết quả phép cộng (a + b): \", result)"
   ]
  },
  {
   "cell_type": "markdown",
   "metadata": {},
   "source": [
    "### -- Trừ (-)"
   ]
  },
  {
   "cell_type": "code",
   "execution_count": 75,
   "metadata": {},
   "outputs": [],
   "source": [
    "a = 8\n",
    "b = 4\n",
    "result = a - b #Kết quả: 4"
   ]
  },
  {
   "cell_type": "code",
   "execution_count": 76,
   "metadata": {},
   "outputs": [
    {
     "name": "stdout",
     "output_type": "stream",
     "text": [
      "Kết quả phép trừ (a - b):  4\n"
     ]
    }
   ],
   "source": [
    "print(\"Kết quả phép trừ (a - b): \", result)"
   ]
  },
  {
   "cell_type": "markdown",
   "metadata": {},
   "source": [
    "### -- Phép nhân (*)"
   ]
  },
  {
   "cell_type": "code",
   "execution_count": 77,
   "metadata": {},
   "outputs": [],
   "source": [
    "a = 6\n",
    "b = 4\n",
    "result = a * b #Kết quả: 24"
   ]
  },
  {
   "cell_type": "code",
   "execution_count": 78,
   "metadata": {},
   "outputs": [
    {
     "name": "stdout",
     "output_type": "stream",
     "text": [
      "Kết quả phép nhân (a * b):  24\n"
     ]
    }
   ],
   "source": [
    "print(\"Kết quả phép nhân (a * b): \", result)"
   ]
  },
  {
   "cell_type": "markdown",
   "metadata": {},
   "source": [
    "### -- Phép chia (/)"
   ]
  },
  {
   "cell_type": "code",
   "execution_count": 79,
   "metadata": {},
   "outputs": [],
   "source": [
    "a = 6\n",
    "b = 4\n",
    "result = a / b #Kết quả: 1.5"
   ]
  },
  {
   "cell_type": "code",
   "execution_count": 80,
   "metadata": {},
   "outputs": [
    {
     "name": "stdout",
     "output_type": "stream",
     "text": [
      "Kết quả phép chia (a / b):  1.5\n"
     ]
    }
   ],
   "source": [
    "print(\"Kết quả phép chia (a / b): \", result)"
   ]
  },
  {
   "cell_type": "markdown",
   "metadata": {},
   "source": [
    "### -- Chia lấy phần nguyên (//)"
   ]
  },
  {
   "cell_type": "code",
   "execution_count": 81,
   "metadata": {},
   "outputs": [],
   "source": [
    "a = 6\n",
    "b = 4\n",
    "result = a // b #Kết quả: 1"
   ]
  },
  {
   "cell_type": "code",
   "execution_count": 82,
   "metadata": {},
   "outputs": [
    {
     "name": "stdout",
     "output_type": "stream",
     "text": [
      "Kết quả chia lấy phần nguyên (a // b):  1\n"
     ]
    }
   ],
   "source": [
    "print(\"Kết quả chia lấy phần nguyên (a // b): \", result)"
   ]
  },
  {
   "cell_type": "markdown",
   "metadata": {},
   "source": [
    "### -- Chia lấy phần dư (%)"
   ]
  },
  {
   "cell_type": "code",
   "execution_count": 83,
   "metadata": {},
   "outputs": [],
   "source": [
    "a = 6\n",
    "b = 4\n",
    "result = a % b #Kết quả: 2"
   ]
  },
  {
   "cell_type": "code",
   "execution_count": 84,
   "metadata": {},
   "outputs": [
    {
     "name": "stdout",
     "output_type": "stream",
     "text": [
      "Kết quả chia lấy dư (a % b):  2\n"
     ]
    }
   ],
   "source": [
    "print(\"Kết quả chia lấy dư (a % b): \", result)"
   ]
  },
  {
   "cell_type": "markdown",
   "metadata": {},
   "source": [
    "### -- Lũy thừa (**)"
   ]
  },
  {
   "cell_type": "code",
   "execution_count": 85,
   "metadata": {},
   "outputs": [],
   "source": [
    "a = 2\n",
    "b = 3\n",
    "result = a ** b #Kết quả: 8"
   ]
  },
  {
   "cell_type": "code",
   "execution_count": 86,
   "metadata": {},
   "outputs": [
    {
     "name": "stdout",
     "output_type": "stream",
     "text": [
      "Kết quả lũy thừa (a ** b):  8\n"
     ]
    }
   ],
   "source": [
    "print(\"Kết quả lũy thừa (a ** b): \", result)"
   ]
  },
  {
   "cell_type": "markdown",
   "metadata": {},
   "source": [
    "<div class=\"alert alert-block alert-info\"><h1>1.2.4 Các toán tử logic</h1></div>"
   ]
  },
  {
   "cell_type": "markdown",
   "metadata": {},
   "source": [
    "### -- Phép toán AND"
   ]
  },
  {
   "cell_type": "code",
   "execution_count": 87,
   "metadata": {},
   "outputs": [],
   "source": [
    "x = 5\n",
    "y = 3\n",
    "result = (x > 2) and (y < 4)"
   ]
  },
  {
   "cell_type": "code",
   "execution_count": 88,
   "metadata": {},
   "outputs": [
    {
     "name": "stdout",
     "output_type": "stream",
     "text": [
      "Kết quả phép toán AND:  True\n"
     ]
    }
   ],
   "source": [
    "print(\"Kết quả phép toán AND: \", result)"
   ]
  },
  {
   "cell_type": "markdown",
   "metadata": {},
   "source": [
    "### -- Phép toán OR"
   ]
  },
  {
   "cell_type": "code",
   "execution_count": 89,
   "metadata": {},
   "outputs": [],
   "source": [
    "x = 5\n",
    "y = 3\n",
    "result = (x > 2) or (y < 4)"
   ]
  },
  {
   "cell_type": "code",
   "execution_count": 90,
   "metadata": {},
   "outputs": [
    {
     "name": "stdout",
     "output_type": "stream",
     "text": [
      "Kết quả phép toán OR:  True\n"
     ]
    }
   ],
   "source": [
    "print(\"Kết quả phép toán OR: \", result)"
   ]
  },
  {
   "cell_type": "markdown",
   "metadata": {},
   "source": [
    "### -- Phép toán NOT"
   ]
  },
  {
   "cell_type": "code",
   "execution_count": 91,
   "metadata": {},
   "outputs": [],
   "source": [
    "y = 4\n",
    "result = not (y == 4)"
   ]
  },
  {
   "cell_type": "code",
   "execution_count": 92,
   "metadata": {},
   "outputs": [
    {
     "name": "stdout",
     "output_type": "stream",
     "text": [
      "Kết quả phép toán NOT:  False\n"
     ]
    }
   ],
   "source": [
    "print(\"Kết quả phép toán NOT: \", result)"
   ]
  },
  {
   "cell_type": "markdown",
   "metadata": {},
   "source": [
    "### -- Phép toán so sánh bằng (==)"
   ]
  },
  {
   "cell_type": "code",
   "execution_count": 93,
   "metadata": {},
   "outputs": [],
   "source": [
    "y = 4\n",
    "result = (y == 4)"
   ]
  },
  {
   "cell_type": "code",
   "execution_count": 94,
   "metadata": {},
   "outputs": [
    {
     "name": "stdout",
     "output_type": "stream",
     "text": [
      "Kết quả phép toán so sánh (==):  True\n"
     ]
    }
   ],
   "source": [
    "print(\"Kết quả phép toán so sánh (==): \", result)"
   ]
  },
  {
   "cell_type": "markdown",
   "metadata": {},
   "source": [
    "### -- Phép so sánh không bằng (!=)"
   ]
  },
  {
   "cell_type": "code",
   "execution_count": 95,
   "metadata": {},
   "outputs": [],
   "source": [
    "y = 4\n",
    "result = (y != 4)"
   ]
  },
  {
   "cell_type": "code",
   "execution_count": 96,
   "metadata": {},
   "outputs": [
    {
     "name": "stdout",
     "output_type": "stream",
     "text": [
      "Kết quả phép so sánh (!=):  False\n"
     ]
    }
   ],
   "source": [
    "print(\"Kết quả phép so sánh (!=): \", result)"
   ]
  },
  {
   "cell_type": "markdown",
   "metadata": {},
   "source": [
    "### -- Phép so sánh lớn hơn (>), nhỏ hơn (<)"
   ]
  },
  {
   "cell_type": "code",
   "execution_count": 97,
   "metadata": {},
   "outputs": [],
   "source": [
    "y = 4\n",
    "result1 = (y < 5)\n",
    "result2 = (y > 4)"
   ]
  },
  {
   "cell_type": "code",
   "execution_count": 98,
   "metadata": {},
   "outputs": [
    {
     "name": "stdout",
     "output_type": "stream",
     "text": [
      "Kết quả phép so sánh (>) và (<): \n",
      "Result 1:  True\n",
      "Result 2:  False\n"
     ]
    }
   ],
   "source": [
    "print(\"Kết quả phép so sánh (>) và (<): \")\n",
    "print(\"Result 1: \", result1)\n",
    "print(\"Result 2: \", result2)"
   ]
  },
  {
   "cell_type": "markdown",
   "metadata": {},
   "source": [
    "### -- Phép so sánh lớn hơn hoặc bằng (>=), nhỏ hơn hoặc bằng (<=)"
   ]
  },
  {
   "cell_type": "code",
   "execution_count": 99,
   "metadata": {},
   "outputs": [],
   "source": [
    "y = 4\n",
    "result1 = (y <= 5)\n",
    "result2 = (y >= 45)"
   ]
  },
  {
   "cell_type": "code",
   "execution_count": 100,
   "metadata": {},
   "outputs": [
    {
     "name": "stdout",
     "output_type": "stream",
     "text": [
      "Kết quả phép so sánh (>=) và (<=): \n",
      "Result 1:  True\n",
      "Result 2:  False\n"
     ]
    }
   ],
   "source": [
    "print(\"Kết quả phép so sánh (>=) và (<=): \")\n",
    "print(\"Result 1: \", result1)\n",
    "print(\"Result 2: \", result2)"
   ]
  },
  {
   "cell_type": "markdown",
   "metadata": {},
   "source": [
    "<div class=\"alert alert-block alert-info\"><h1>1.2.5 Nhập, xuất dữ liệu</h1></div>"
   ]
  },
  {
   "cell_type": "code",
   "execution_count": 104,
   "metadata": {},
   "outputs": [],
   "source": [
    "name = input(\"Nhập tên của bạn: \")"
   ]
  },
  {
   "cell_type": "code",
   "execution_count": 105,
   "metadata": {},
   "outputs": [
    {
     "name": "stdout",
     "output_type": "stream",
     "text": [
      "Xin chào,  Hoàng Anh\n"
     ]
    }
   ],
   "source": [
    "print(\"Xin chào, \", name)"
   ]
  },
  {
   "cell_type": "code",
   "execution_count": 106,
   "metadata": {},
   "outputs": [
    {
     "name": "stdout",
     "output_type": "stream",
     "text": [
      "Tuổi của bạn là:  25\n"
     ]
    }
   ],
   "source": [
    "age = 25\n",
    "print(\"Tuổi của bạn là: \", age)"
   ]
  },
  {
   "cell_type": "code",
   "execution_count": 107,
   "metadata": {},
   "outputs": [
    {
     "name": "stdout",
     "output_type": "stream",
     "text": [
      "Python-là-ngôn-ngữ-lập-trình\n"
     ]
    }
   ],
   "source": [
    "print(\"Python\", \"là\", \"ngôn\", \"ngữ\", \"lập\", \"trình\", sep=\"-\")"
   ]
  },
  {
   "cell_type": "code",
   "execution_count": 110,
   "metadata": {},
   "outputs": [
    {
     "name": "stdout",
     "output_type": "stream",
     "text": [
      "Xin chào các bạn!\n"
     ]
    }
   ],
   "source": [
    "print(\"Xin chào\", end =\" \")\n",
    "print(\"các bạn!\")"
   ]
  },
  {
   "cell_type": "markdown",
   "metadata": {},
   "source": [
    "<div class=\"alert alert-block alert-info\"><h1>1.2.6 Các cấu trúc điều khiển</h1></div>"
   ]
  },
  {
   "cell_type": "markdown",
   "metadata": {},
   "source": [
    "### -- Câu điều kiện (Conditional Statements)"
   ]
  },
  {
   "cell_type": "code",
   "execution_count": 113,
   "metadata": {},
   "outputs": [
    {
     "name": "stdout",
     "output_type": "stream",
     "text": [
      "X lớn hơn 5\n"
     ]
    }
   ],
   "source": [
    "x = 10\n",
    "\n",
    "if x > 5 : print(\"X lớn hơn 5\")\n",
    "elif x == 5 : print(\"X bằng 5\")\n",
    "else : print(\"X nhỏ hơn 5\")"
   ]
  },
  {
   "cell_type": "markdown",
   "metadata": {},
   "source": [
    "### -- Vòng lặp (Loops)"
   ]
  },
  {
   "cell_type": "markdown",
   "metadata": {},
   "source": [
    "> Vòng lặp For"
   ]
  },
  {
   "cell_type": "code",
   "execution_count": 115,
   "metadata": {},
   "outputs": [
    {
     "name": "stdout",
     "output_type": "stream",
     "text": [
      "apple\n",
      "banana\n",
      "cherry\n"
     ]
    }
   ],
   "source": [
    "fruits = [\"apple\", \"banana\", \"cherry\"]\n",
    "\n",
    "for fruit in fruits : print (fruit)"
   ]
  },
  {
   "cell_type": "markdown",
   "metadata": {},
   "source": [
    "> Vòng lặp While"
   ]
  },
  {
   "cell_type": "code",
   "execution_count": 117,
   "metadata": {},
   "outputs": [
    {
     "name": "stdout",
     "output_type": "stream",
     "text": [
      "0\n",
      "1\n",
      "2\n",
      "3\n",
      "4\n"
     ]
    }
   ],
   "source": [
    "count = 0\n",
    "\n",
    "while count < 5 : \n",
    "    print(count)\n",
    "    count += 1"
   ]
  },
  {
   "cell_type": "markdown",
   "metadata": {},
   "source": [
    "> Câu lệnh nhảy (Jump Statements)"
   ]
  },
  {
   "cell_type": "code",
   "execution_count": 121,
   "metadata": {},
   "outputs": [
    {
     "name": "stdout",
     "output_type": "stream",
     "text": [
      "Số chia hết cho 5 đầu tiên là:  5\n"
     ]
    }
   ],
   "source": [
    "# Tìm số chia hết cho 5 đầu tiên trong khoảng từ 1 đến 100\n",
    "for i in range(1, 101):\n",
    "        if i % 5 != 0: continue\n",
    "        print(\"Số chia hết cho 5 đầu tiên là: \", i)\n",
    "        break\n"
   ]
  },
  {
   "cell_type": "code",
   "execution_count": 122,
   "metadata": {},
   "outputs": [
    {
     "name": "stdout",
     "output_type": "stream",
     "text": [
      "2\n",
      "4\n",
      "6\n",
      "8\n",
      "10\n"
     ]
    }
   ],
   "source": [
    "# In các số chẵn từ 1 đến 10 và bỏ qua các số lẻ\n",
    "for i in range(1, 11):\n",
    "        if i % 2 != 0: continue\n",
    "        print(i)"
   ]
  },
  {
   "cell_type": "code",
   "execution_count": 123,
   "metadata": {},
   "outputs": [],
   "source": [
    "# Kiểm tra điều kiện, nếu đúng thực hiện, nếu sai thì không làm gì\n",
    "x = 5\n",
    "\n",
    "if x > 10 : print(\"X lớn hơn 10\")\n",
    "else : pass"
   ]
  },
  {
   "cell_type": "markdown",
   "metadata": {},
   "source": [
    "<div class=\"alert alert-block alert-info\"><h1>1.2.7 Chuỗi</h1></div>"
   ]
  },
  {
   "cell_type": "markdown",
   "metadata": {},
   "source": [
    "> Khai báo chuỗi trong Python"
   ]
  },
  {
   "cell_type": "code",
   "execution_count": 124,
   "metadata": {},
   "outputs": [],
   "source": [
    "# Sử dụng dấu ngoặc đơn\n",
    "string_single_quotes = 'Đây là một chuỗi sử dụng dấu ngoặc đơn.'\n",
    "# Sử dụng dấu ngoặc kép \n",
    "string_double_quotes = \"Đây là một chuỗi sử dụng dấu ngoặc kép.\"\n",
    "# Sử dụng dấu ngoặc ba\n",
    "string_triple_quotes = '''Đây là một chuỗi sử dụng dấu ngoặc ba, có thể trải dài qua nhiều dòng'''"
   ]
  },
  {
   "cell_type": "code",
   "execution_count": 125,
   "metadata": {},
   "outputs": [
    {
     "name": "stdout",
     "output_type": "stream",
     "text": [
      "Đây là một chuỗi sử dụng dấu ngoặc đơn.\n",
      "Đây là một chuỗi sử dụng dấu ngoặc kép.\n",
      "Đây là một chuỗi sử dụng dấu ngoặc ba, có thể trải dài qua nhiều dòng\n"
     ]
    }
   ],
   "source": [
    "print(string_single_quotes)\n",
    "print(string_double_quotes)\n",
    "print(string_triple_quotes)"
   ]
  },
  {
   "cell_type": "markdown",
   "metadata": {},
   "source": [
    "> Truy cập ký tự trong chuỗi"
   ]
  },
  {
   "cell_type": "code",
   "execution_count": 126,
   "metadata": {},
   "outputs": [
    {
     "name": "stdout",
     "output_type": "stream",
     "text": [
      "H\n",
      "W\n"
     ]
    }
   ],
   "source": [
    "my_string = \"Hello, World!\"\n",
    "print(my_string[0])\n",
    "print(my_string[7])"
   ]
  },
  {
   "cell_type": "markdown",
   "metadata": {},
   "source": [
    "> Các phép xử lý chuỗi trong Python"
   ]
  },
  {
   "cell_type": "code",
   "execution_count": 127,
   "metadata": {},
   "outputs": [
    {
     "name": "stdout",
     "output_type": "stream",
     "text": [
      "orld!\n",
      "Hello\n",
      "lo Wo\n"
     ]
    }
   ],
   "source": [
    "# Cắt chuỗi\n",
    "my_string = \"Hello World!\"\n",
    "print(my_string[7:])\n",
    "print(my_string[:5])\n",
    "print(my_string[3:8])"
   ]
  },
  {
   "cell_type": "code",
   "execution_count": 129,
   "metadata": {},
   "outputs": [
    {
     "name": "stdout",
     "output_type": "stream",
     "text": [
      "Hello World\n"
     ]
    }
   ],
   "source": [
    "# Ghép chuỗi\n",
    "string1 = \"Hello\"\n",
    "string2 = \"World\"\n",
    "result = string1 + \" \" + string2\n",
    "print(result)"
   ]
  },
  {
   "cell_type": "code",
   "execution_count": 131,
   "metadata": {},
   "outputs": [
    {
     "name": "stdout",
     "output_type": "stream",
     "text": [
      "12\n"
     ]
    }
   ],
   "source": [
    "# Độ dài chuỗi\n",
    "my_string = \"Hello World!\"\n",
    "length = len(my_string)\n",
    "print(length)"
   ]
  },
  {
   "cell_type": "markdown",
   "metadata": {},
   "source": [
    "> Một số hàm dùng để xử lý các chuỗi trong Python"
   ]
  },
  {
   "cell_type": "code",
   "execution_count": 133,
   "metadata": {},
   "outputs": [
    {
     "name": "stdout",
     "output_type": "stream",
     "text": [
      "Hello World!\n"
     ]
    }
   ],
   "source": [
    "my_string = \"   Hello World!    \"\n",
    "print(my_string.strip())"
   ]
  },
  {
   "cell_type": "code",
   "execution_count": 135,
   "metadata": {},
   "outputs": [
    {
     "name": "stdout",
     "output_type": "stream",
     "text": [
      "['Hello', ' World!']\n"
     ]
    }
   ],
   "source": [
    "my_string = \"Hello, World!\"\n",
    "print(my_string.split(\",\"))"
   ]
  },
  {
   "cell_type": "code",
   "execution_count": 136,
   "metadata": {},
   "outputs": [
    {
     "name": "stdout",
     "output_type": "stream",
     "text": [
      "Hi, World!\n"
     ]
    }
   ],
   "source": [
    "my_string = \"Hello, World!\"\n",
    "print(my_string.replace(\"Hello\", \"Hi\"))"
   ]
  },
  {
   "cell_type": "markdown",
   "metadata": {},
   "source": [
    "<div class=\"alert alert-block alert-info\"><h1>1.2.8 Hàm (Function)</h1></div>"
   ]
  },
  {
   "cell_type": "markdown",
   "metadata": {},
   "source": [
    "> Khai báo hàm"
   ]
  },
  {
   "cell_type": "code",
   "execution_count": 140,
   "metadata": {},
   "outputs": [],
   "source": [
    "def my_function(parameter1, parameter2) : return parameter1 + parameter2"
   ]
  },
  {
   "cell_type": "code",
   "execution_count": 142,
   "metadata": {},
   "outputs": [
    {
     "name": "stdout",
     "output_type": "stream",
     "text": [
      "40\n"
     ]
    }
   ],
   "source": [
    "print(my_function(20, 20))"
   ]
  },
  {
   "cell_type": "code",
   "execution_count": 143,
   "metadata": {},
   "outputs": [
    {
     "name": "stdout",
     "output_type": "stream",
     "text": [
      "Tổng hai số là: 30\n"
     ]
    }
   ],
   "source": [
    "# Định nghĩa hàm tính tổng\n",
    "def calculate_sum(a, b):\n",
    "    result = a + b\n",
    "    return result\n",
    "\n",
    "# Gọi hàm và lưu kết quả vào biến\n",
    "sum_result = calculate_sum(10, 20)\n",
    "# In kết quả\n",
    "print(\"Tổng hai số là:\", sum_result)"
   ]
  },
  {
   "cell_type": "code",
   "execution_count": 144,
   "metadata": {},
   "outputs": [
    {
     "name": "stdout",
     "output_type": "stream",
     "text": [
      "Xin chào, Alice\n"
     ]
    }
   ],
   "source": [
    "# Hàm không trả về giá trị, chỉ in ra thông báo\n",
    "def greet(name):\n",
    "    print(\"Xin chào,\", name)\n",
    "\n",
    "# Gọi hàm\n",
    "greet(\"Alice\")"
   ]
  },
  {
   "cell_type": "markdown",
   "metadata": {},
   "source": [
    "<div class=\"alert alert-block alert-info\"><h1>1.3 Kiểu Dữ liệu Có Cấu trúc</h1></div>"
   ]
  },
  {
   "cell_type": "markdown",
   "metadata": {},
   "source": [
    "> 1.3.1 Mảng (Array)"
   ]
  },
  {
   "cell_type": "code",
   "execution_count": 158,
   "metadata": {},
   "outputs": [
    {
     "name": "stdout",
     "output_type": "stream",
     "text": [
      "array('i', [1, 2, 3, 4, 5])\n",
      "array('f', [3.140000104904175, 2.5, 6.699999809265137])\n"
     ]
    }
   ],
   "source": [
    "from array import array\n",
    "\n",
    "# Khai báo một mảng số nguyên\n",
    "int_array = array('i', [1, 2, 3, 4, 5])\n",
    "# Khai báo một mảng số thực\n",
    "float_array = array('f', [3.14, 2.5, 6.7])\n",
    "\n",
    "print(int_array)\n",
    "print(float_array)"
   ]
  },
  {
   "cell_type": "code",
   "execution_count": 156,
   "metadata": {},
   "outputs": [
    {
     "name": "stdout",
     "output_type": "stream",
     "text": [
      "array('i', [1, 2, 10, 4, 5])\n"
     ]
    }
   ],
   "source": [
    "## Cập nhật\n",
    "int_array[2] = 10\n",
    "print(int_array)"
   ]
  },
  {
   "cell_type": "code",
   "execution_count": 160,
   "metadata": {},
   "outputs": [
    {
     "name": "stdout",
     "output_type": "stream",
     "text": [
      "array('i', [1, 2, 3, 4, 5, 6, 6])\n",
      "array('f', [3.140000104904175, 6.699999809265137])\n"
     ]
    }
   ],
   "source": [
    "int_array.append(6)\n",
    "float_array.remove(2.5)\n",
    "\n",
    "print(int_array)\n",
    "print(float_array)"
   ]
  },
  {
   "cell_type": "code",
   "execution_count": 147,
   "metadata": {},
   "outputs": [
    {
     "name": "stdout",
     "output_type": "stream",
     "text": [
      "1\n",
      "6.699999809265137\n"
     ]
    }
   ],
   "source": [
    "from array import array\n",
    "\n",
    "int_array = array('i', [1, 2, 3, 4, 5])\n",
    "float_array = array('f', [3.14, 2.5, 6.7])\n",
    "\n",
    "print(int_array[0]) # Truy cập phần tử đầu tiên của mảng số nguyên [cite: 131]\n",
    "print(float_array[2]) # Truy cập phần tử thứ ba của mảng số thực [cite: 131]"
   ]
  },
  {
   "cell_type": "markdown",
   "metadata": {},
   "source": [
    "> 1.3.2 Danh sách (List)"
   ]
  },
  {
   "cell_type": "code",
   "execution_count": 161,
   "metadata": {},
   "outputs": [
    {
     "name": "stdout",
     "output_type": "stream",
     "text": [
      "my_list: [1, 2, 3, 4, 5]\n",
      "names: ['Alice', 'Bob', 'Charlie']\n",
      "mixed_list: [10, 'hello', 3.14, True]\n"
     ]
    }
   ],
   "source": [
    "# Danh sách số nguyên\n",
    "my_list = [1, 2, 3, 4, 5]\n",
    "# Danh sách chuỗi\n",
    "names = [\"Alice\", \"Bob\", \"Charlie\"]\n",
    "# Danh sách kết hợp kiểu dữ liệu\n",
    "mixed_list = [10, \"hello\", 3.14, True]\n",
    "print(\"my_list:\", my_list)\n",
    "print(\"names:\", names)\n",
    "print(\"mixed_list:\", mixed_list)"
   ]
  },
  {
   "cell_type": "code",
   "execution_count": 162,
   "metadata": {},
   "outputs": [
    {
     "name": "stdout",
     "output_type": "stream",
     "text": [
      "1\n",
      "Charlie\n"
     ]
    }
   ],
   "source": [
    "my_list = [1, 2, 3, 4, 5]\n",
    "names = [\"Alice\", \"Bob\", \"Charlie\"]\n",
    "\n",
    "print(my_list[0]) # Truy cập phần tử đầu tiên: Kết quả: 1\n",
    "print(names[2]) # Truy cập phần tử thứ ba: Kết quả: 'Charlie'"
   ]
  },
  {
   "cell_type": "code",
   "execution_count": 163,
   "metadata": {},
   "outputs": [
    {
     "name": "stdout",
     "output_type": "stream",
     "text": [
      "[1, 20, 3, 4, 5]\n"
     ]
    }
   ],
   "source": [
    "my_list = [1, 2, 3, 4, 5]\n",
    "\n",
    "my_list[1] = 20 # Thay đổi giá trị của phần tử thứ hai\n",
    "print(my_list) # Kết quả: [1, 20, 3, 4, 5]"
   ]
  },
  {
   "cell_type": "code",
   "execution_count": 164,
   "metadata": {},
   "outputs": [
    {
     "name": "stdout",
     "output_type": "stream",
     "text": [
      "['Alice', 'Bob', 'Charlie', 'David']\n"
     ]
    }
   ],
   "source": [
    "names = [\"Alice\", \"Bob\", \"Charlie\"]\n",
    "\n",
    "names.append(\"David\") # Thêm phần tử vào cuối danh sách\n",
    "print(names) # Kết quả: ['Alice', 'Bob', 'Charlie', 'David']"
   ]
  },
  {
   "cell_type": "code",
   "execution_count": 165,
   "metadata": {},
   "outputs": [
    {
     "name": "stdout",
     "output_type": "stream",
     "text": [
      "[1, 2, 4, 5]\n"
     ]
    }
   ],
   "source": [
    "my_list = [1, 2, 3, 4, 5]\n",
    "\n",
    "del my_list[2] # Xóa phần tử thứ ba khỏi danh sách\n",
    "print(my_list) # Kết quả: [1, 20, 4, 5]"
   ]
  },
  {
   "cell_type": "code",
   "execution_count": 166,
   "metadata": {},
   "outputs": [
    {
     "name": "stdout",
     "output_type": "stream",
     "text": [
      "Alice\n",
      "Bob\n",
      "Charlie\n"
     ]
    }
   ],
   "source": [
    "names = [\"Alice\", \"Bob\", \"Charlie\"]\n",
    "\n",
    "for element in names:\n",
    "    print(element) # In từng phần tử trong danh sách"
   ]
  },
  {
   "cell_type": "markdown",
   "metadata": {},
   "source": [
    "> 1.3.3 Kiểu Tuple"
   ]
  },
  {
   "cell_type": "code",
   "execution_count": 167,
   "metadata": {},
   "outputs": [
    {
     "name": "stdout",
     "output_type": "stream",
     "text": [
      "my_tuple: (1, 2, 3, 4, 5)\n",
      "names: ('Alice', 'Bob', 'Charlie')\n",
      "mixed_tuple: (10, 'hello', 3.14)\n"
     ]
    }
   ],
   "source": [
    "# Tuple các số nguyên\n",
    "my_tuple = (1, 2, 3, 4, 5)\n",
    "# Tuple các chuỗi\n",
    "names = (\"Alice\", \"Bob\", \"Charlie\")\n",
    "# Tuple kết hợp kiểu dữ liệu\n",
    "mixed_tuple = (10, \"hello\", 3.14)\n",
    "print(\"my_tuple:\", my_tuple)\n",
    "print(\"names:\", names)\n",
    "print(\"mixed_tuple:\", mixed_tuple)"
   ]
  },
  {
   "cell_type": "code",
   "execution_count": 168,
   "metadata": {},
   "outputs": [
    {
     "name": "stdout",
     "output_type": "stream",
     "text": [
      "1\n",
      "Charlie\n"
     ]
    }
   ],
   "source": [
    "my_tuple = (1, 2, 3, 4, 5)\n",
    "names = (\"Alice\", \"Bob\", \"Charlie\")\n",
    "\n",
    "print(my_tuple[0]) # Truy cập phần tử đầu tiên: Kết quả: 1\n",
    "print(names[2]) # Truy cập phần tử thứ ba: Kết quả: 'Charlie'"
   ]
  },
  {
   "cell_type": "code",
   "execution_count": 169,
   "metadata": {},
   "outputs": [
    {
     "name": "stdout",
     "output_type": "stream",
     "text": [
      "3\n"
     ]
    }
   ],
   "source": [
    "my_tuple = (1, 2, 3, 1, 4, 1)\n",
    "print(my_tuple.count(1)) # Kết quả: 3 (1 xuất hiện 3 lần trong tuple)"
   ]
  },
  {
   "cell_type": "code",
   "execution_count": 170,
   "metadata": {},
   "outputs": [
    {
     "name": "stdout",
     "output_type": "stream",
     "text": [
      "1\n"
     ]
    }
   ],
   "source": [
    "my_tuple = ('a', 'b', 'c', 'd', 'b')\n",
    "print(my_tuple.index('b')) # Kết quả: 1 (chỉ số đầu tiên của 'b' trong tuple là 1)"
   ]
  },
  {
   "cell_type": "markdown",
   "metadata": {},
   "source": [
    "> 1.3.4 Kiểu Dictionary"
   ]
  },
  {
   "cell_type": "code",
   "execution_count": 171,
   "metadata": {},
   "outputs": [
    {
     "name": "stdout",
     "output_type": "stream",
     "text": [
      "my_dict: {}\n",
      "person: {'name': 'Alice', 'age': 25, 'city': 'New York'}\n"
     ]
    }
   ],
   "source": [
    "# Khai báo một dictionary rỗng\n",
    "my_dict = {}\n",
    "# Khai báo một dictionary với các cặp key-value\n",
    "person = {\"name\": \"Alice\", \"age\": 25, \"city\": \"New York\"}\n",
    "print(\"my_dict:\", my_dict)\n",
    "print(\"person:\", person)"
   ]
  },
  {
   "cell_type": "code",
   "execution_count": 172,
   "metadata": {},
   "outputs": [
    {
     "name": "stdout",
     "output_type": "stream",
     "text": [
      "Alice\n",
      "25\n"
     ]
    }
   ],
   "source": [
    "person = {\"name\": \"Alice\", \"age\": 25, \"city\": \"New York\"}\n",
    "\n",
    "print(person[\"name\"]) # In giá trị của key \"name\": Kết quả: \"Alice\"\n",
    "print(person[\"age\"]) # In giá trị của key \"age\": Kết quả: 25"
   ]
  },
  {
   "cell_type": "code",
   "execution_count": 174,
   "metadata": {},
   "outputs": [
    {
     "name": "stdout",
     "output_type": "stream",
     "text": [
      "{'name': 'Alice', 'age': 26, 'city': 'New York', 'email': 'alice@example.com'}\n"
     ]
    }
   ],
   "source": [
    "person = {\"name\": \"Alice\", \"age\": 25, \"city\": \"New York\"}\n",
    "\n",
    "# Thêm một cặp key-value mới\n",
    "person[\"email\"] = \"alice@example.com\"\n",
    "# Cập nhật giá trị của key đã tồn tại\n",
    "person[\"age\"] = 26\n",
    "print(person)"
   ]
  },
  {
   "cell_type": "code",
   "execution_count": 175,
   "metadata": {},
   "outputs": [
    {
     "name": "stdout",
     "output_type": "stream",
     "text": [
      "person after deleting 'city': {'name': 'Alice', 'age': 25, 'email': 'alice@example.com'}\n",
      "person after popping 'age': {'name': 'Alice', 'email': 'alice@example.com'}\n",
      "popped age: 25\n"
     ]
    }
   ],
   "source": [
    "person = {\"name\": \"Alice\", \"age\": 25, \"city\": \"New York\", \"email\": \"alice@example.com\"}\n",
    "\n",
    "# Xóa một cặp key-value từ dictionary\n",
    "del person[\"city\"]\n",
    "print(\"person after deleting 'city':\", person)\n",
    "\n",
    "# Xóa phần tử và lấy giá trị của key\n",
    "age = person.pop(\"age\")\n",
    "print(\"person after popping 'age':\", person)\n",
    "print(\"popped age:\", age)"
   ]
  },
  {
   "cell_type": "code",
   "execution_count": 176,
   "metadata": {},
   "outputs": [
    {
     "name": "stdout",
     "output_type": "stream",
     "text": [
      "dict_keys(['name', 'age', 'city'])\n",
      "dict_values(['Alice', 25, 'New York'])\n",
      "dict_items([('name', 'Alice'), ('age', 25), ('city', 'New York')])\n"
     ]
    }
   ],
   "source": [
    "person = {\"name\": \"Alice\", \"age\": 25, \"city\": \"New York\"}\n",
    "\n",
    "print(person.keys()) # In ra tất cả các keys trong dictionary [cite: 164]\n",
    "print(person.values()) # In ra tất cả các values trong dictionary [cite: 164]\n",
    "print(person.items()) # In ra tất cả các cặp key-value trong dictionary [cite: 165]"
   ]
  },
  {
   "cell_type": "markdown",
   "metadata": {},
   "source": [
    "<div class=\"alert alert-block alert-info\"><h1>1.4 OOP TRONG PYTHON</h1></div>"
   ]
  },
  {
   "cell_type": "markdown",
   "metadata": {},
   "source": [
    "> 1.4.1 Lớp (Class) và đối tượng (Object)"
   ]
  },
  {
   "cell_type": "code",
   "execution_count": 177,
   "metadata": {},
   "outputs": [
    {
     "name": "stdout",
     "output_type": "stream",
     "text": [
      "Toyota Corolla\n"
     ]
    }
   ],
   "source": [
    "# Định nghĩa một lớp đơn giản\n",
    "class Car:\n",
    "    def __init__(self, brand, model):\n",
    "        self.brand = brand\n",
    "        self.model = model\n",
    "\n",
    "    def get_info(self):\n",
    "        return f\"{self.brand} {self.model}\"\n",
    "\n",
    "# Tạo đối tượng từ lớp Car\n",
    "my_car = Car(\"Toyota\", \"Corolla\")\n",
    "# Gọi phương thức của đối tượng\n",
    "print(my_car.get_info()) # Kết quả: Toyota Corolla"
   ]
  },
  {
   "cell_type": "code",
   "execution_count": 180,
   "metadata": {},
   "outputs": [
    {
     "name": "stdout",
     "output_type": "stream",
     "text": [
      "value1\n",
      "Class Attribute\n"
     ]
    }
   ],
   "source": [
    "class ClassName:\n",
    "    # Thuộc tính lớp\n",
    "    class_attribute = \"Class Attribute\"\n",
    "\n",
    "    def __init__(self, attribute1, attribute2):\n",
    "        # Thuộc tính instance\n",
    "        self.instance_attribute1 = attribute1\n",
    "        self.instance_attribute2 = attribute2\n",
    "\n",
    "# Tạo đối tượng từ lớp và truy cập các thuộc tính\n",
    "object_name = ClassName(\"value1\", \"value2\")\n",
    "\n",
    "# Truy cập thuộc tính instance\n",
    "print(object_name.instance_attribute1)\n",
    "# Truy cập thuộc tính lớp\n",
    "print(object_name.class_attribute)"
   ]
  },
  {
   "cell_type": "code",
   "execution_count": 181,
   "metadata": {},
   "outputs": [
    {
     "name": "stdout",
     "output_type": "stream",
     "text": [
      "30\n"
     ]
    }
   ],
   "source": [
    "class ClassName:\n",
    "    def method_name(self, parameter1, parameter2):\n",
    "        # Các thao tác hoặc xử lý\n",
    "        return parameter1 + parameter2 # Trả về kết quả (nếu cần)\n",
    "\n",
    "# Tạo đối tượng từ lớp và gọi phương thức\n",
    "object_name = ClassName()\n",
    "# Gọi phương thức và truyền các tham số\n",
    "result = object_name.method_name(10, 20)\n",
    "print(result)"
   ]
  },
  {
   "cell_type": "code",
   "execution_count": 182,
   "metadata": {},
   "outputs": [
    {
     "name": "stdout",
     "output_type": "stream",
     "text": [
      "This is from ParentClass\n",
      "This is from ChildClass\n"
     ]
    }
   ],
   "source": [
    "class ParentClass:\n",
    "    def parent_method(self):\n",
    "        print(\"This is from ParentClass\")\n",
    "\n",
    "class ChildClass(ParentClass):\n",
    "    def child_method(self):\n",
    "        print(\"This is from ChildClass\")\n",
    "\n",
    "child_obj = ChildClass()\n",
    "child_obj.parent_method()\n",
    "child_obj.child_method()"
   ]
  },
  {
   "cell_type": "code",
   "execution_count": 183,
   "metadata": {},
   "outputs": [
    {
     "name": "stdout",
     "output_type": "stream",
     "text": [
      "This is from ParentClass1\n",
      "This is from ParentClass2\n",
      "This is from ChildClass\n"
     ]
    }
   ],
   "source": [
    "class ParentClass1:\n",
    "    def method1(self):\n",
    "        print(\"This is from ParentClass1\")\n",
    "\n",
    "class ParentClass2:\n",
    "    def method2(self):\n",
    "        print(\"This is from ParentClass2\")\n",
    "\n",
    "class ChildClass(ParentClass1, ParentClass2):\n",
    "    def child_method(self):\n",
    "        print(\"This is from ChildClass\")\n",
    "\n",
    "child_obj = ChildClass()\n",
    "child_obj.method1()\n",
    "child_obj.method2()\n",
    "child_obj.child_method()"
   ]
  },
  {
   "cell_type": "markdown",
   "metadata": {},
   "source": [
    "> 1.4.6 Đa hình (Polymorphism)"
   ]
  },
  {
   "cell_type": "code",
   "execution_count": 186,
   "metadata": {},
   "outputs": [
    {
     "name": "stdout",
     "output_type": "stream",
     "text": [
      "6\n"
     ]
    }
   ],
   "source": [
    "class Calculation:\n",
    "    def add(self, a, b):\n",
    "        return a + b\n",
    "\n",
    "    def add(self, a, b, c):\n",
    "        return a + b + c\n",
    "\n",
    "calc = Calculation()\n",
    "print(calc.add(1, 2, 3))"
   ]
  },
  {
   "cell_type": "code",
   "execution_count": 187,
   "metadata": {},
   "outputs": [
    {
     "name": "stdout",
     "output_type": "stream",
     "text": [
      "Generic sound\n",
      "Woof!\n"
     ]
    }
   ],
   "source": [
    "class Animal:\n",
    "    def make_sound(self):\n",
    "        return \"Generic sound\"\n",
    "\n",
    "class Dog(Animal):\n",
    "    def make_sound(self):\n",
    "        return \"Woof!\"\n",
    "\n",
    "animal_obj = Animal()\n",
    "dog_obj = Dog()\n",
    "\n",
    "print(animal_obj.make_sound())\n",
    "print(dog_obj.make_sound())"
   ]
  },
  {
   "cell_type": "code",
   "execution_count": 188,
   "metadata": {},
   "outputs": [
    {
     "name": "stdout",
     "output_type": "stream",
     "text": [
      "Woof!\n",
      "Meow!\n"
     ]
    }
   ],
   "source": [
    "class Animal:\n",
    "    def make_sound(self):\n",
    "        return \"Generic sound\"\n",
    "\n",
    "class Dog(Animal):\n",
    "    def make_sound(self):\n",
    "        return \"Woof!\"\n",
    "\n",
    "class Cat(Animal):\n",
    "    def make_sound(self):\n",
    "        return \"Meow!\"\n",
    "\n",
    "# Đa hình tại thời điểm chạy\n",
    "def animal_sound(animal):\n",
    "    return animal.make_sound()\n",
    "\n",
    "dog = Dog()\n",
    "cat = Cat()\n",
    "\n",
    "print(animal_sound(dog)) # Kết quả: Woof!\n",
    "print(animal_sound(cat)) # Kết quả: Meow!"
   ]
  },
  {
   "cell_type": "code",
   "execution_count": 189,
   "metadata": {},
   "outputs": [
    {
     "name": "stdout",
     "output_type": "stream",
     "text": [
      "Woof!\n",
      "Meow!\n"
     ]
    }
   ],
   "source": [
    "from abc import ABC, abstractmethod\n",
    "\n",
    "# Lớp trừu tượng\n",
    "class Animal(ABC):\n",
    "    @abstractmethod\n",
    "    def make_sound(self):\n",
    "        pass\n",
    "\n",
    "# Lớp con thực hiện (định nghĩa phương thức cụ thể)\n",
    "class Dog(Animal):\n",
    "    def make_sound(self):\n",
    "        return \"Woof!\"\n",
    "\n",
    "# Lớp con thực hiện (định nghĩa phương thức cụ thể)\n",
    "class Cat(Animal):\n",
    "    def make_sound(self):\n",
    "        return \"Meow!\"\n",
    "\n",
    "# Sử dụng các đối tượng trừu tượng\n",
    "dog = Dog()\n",
    "cat = Cat()\n",
    "\n",
    "print(dog.make_sound()) # Kết quả: Woof!\n",
    "print(cat.make_sound()) # Kết quả: Meow!"
   ]
  }
 ],
 "metadata": {
  "kernelspec": {
   "display_name": "Python 3",
   "language": "python",
   "name": "python3"
  },
  "language_info": {
   "codemirror_mode": {
    "name": "ipython",
    "version": 3
   },
   "file_extension": ".py",
   "mimetype": "text/x-python",
   "name": "python",
   "nbconvert_exporter": "python",
   "pygments_lexer": "ipython3",
   "version": "3.13.3"
  }
 },
 "nbformat": 4,
 "nbformat_minor": 2
}
